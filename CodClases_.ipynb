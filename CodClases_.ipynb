{
  "nbformat": 4,
  "nbformat_minor": 0,
  "metadata": {
    "colab": {
      "provenance": [],
      "include_colab_link": true
    },
    "kernelspec": {
      "name": "python3",
      "display_name": "Python 3"
    },
    "language_info": {
      "name": "python"
    }
  },
  "cells": [
    {
      "cell_type": "markdown",
      "metadata": {
        "id": "view-in-github",
        "colab_type": "text"
      },
      "source": [
        "<a href=\"https://colab.research.google.com/github/camila99urrego/ALGORITMOS-II/blob/main/CodClases_.ipynb\" target=\"_parent\"><img src=\"https://colab.research.google.com/assets/colab-badge.svg\" alt=\"Open In Colab\"/></a>"
      ]
    },
    {
      "cell_type": "markdown",
      "source": [
        "Clases - Algoritmo 2 Taller\n",
        "\n",
        "\n"
      ],
      "metadata": {
        "id": "pgDKO972fv8-"
      }
    },
    {
      "cell_type": "code",
      "source": [
        "# 1. Clase Persona\n",
        "class Persona:\n",
        "    def __init__(self, nombre, edad):\n",
        "# Inicializa la persona con nombre y edad\n",
        "        self.nombre = nombre\n",
        "        self.edad = edad\n",
        "\n",
        "    def presentarse(self):\n",
        "# Devuelve una cadena con el nombre y la edad de la persona\n",
        "        return f\"Hola, soy {self.nombre} y tengo {self.edad} años.\"\n",
        "\n",
        "    def cumplir_anios(self):\n",
        "# Aumenta la edad en 1 año\n",
        "        self.edad += 1\n",
        "\n",
        "Persona1 = Persona(\"Camila\", 25)\n",
        "\n",
        "Persona.presentarse"
      ],
      "metadata": {
        "colab": {
          "base_uri": "https://localhost:8080/",
          "height": 104
        },
        "id": "RVexd_LkfvjS",
        "outputId": "44ce0bbb-5fb4-495c-b110-37fb87dc2bcc"
      },
      "execution_count": null,
      "outputs": [
        {
          "output_type": "execute_result",
          "data": {
            "text/plain": [
              "<function __main__.Persona.presentarse(self)>"
            ],
            "text/html": [
              "<div style=\"max-width:800px; border: 1px solid var(--colab-border-color);\"><style>\n",
              "      pre.function-repr-contents {\n",
              "        overflow-x: auto;\n",
              "        padding: 8px 12px;\n",
              "        max-height: 500px;\n",
              "      }\n",
              "\n",
              "      pre.function-repr-contents.function-repr-contents-collapsed {\n",
              "        cursor: pointer;\n",
              "        max-height: 100px;\n",
              "      }\n",
              "    </style>\n",
              "    <pre style=\"white-space: initial; background:\n",
              "         var(--colab-secondary-surface-color); padding: 8px 12px;\n",
              "         border-bottom: 1px solid var(--colab-border-color);\"><b>Persona.presentarse</b><br/>def presentarse()</pre><pre class=\"function-repr-contents function-repr-contents-collapsed\" style=\"\"><a class=\"filepath\" style=\"display:none\" href=\"#\">/content/&lt;ipython-input-21-feffbede2fcb&gt;</a>&lt;no docstring&gt;</pre></div>"
            ]
          },
          "metadata": {},
          "execution_count": 21
        }
      ]
    },
    {
      "cell_type": "code",
      "source": [
        "# 2. Clase Coche\n",
        "class Coche:\n",
        "    def __init__(self, marca, modelo):\n",
        "# Inicializa el coche con marca, modelo y estado apagado\n",
        "        self.marca = marca\n",
        "        self.modelo = modelo\n",
        "        self.encendido = False  # El coche inicia apagado\n",
        "\n",
        "    def encender(self):\n",
        "# Enciende el coche\n",
        "        self.encendido = True\n",
        "\n",
        "    def apagar(self):\n",
        "# Apaga el coche\n",
        "        self.encendido = False\n",
        "\n",
        "    def estado(self):\n",
        "# Devuelve el estado actual del coche (encendido o apagado)\n",
        "        return \"Encendido\" if self.encendido else \"Apagado\"\n",
        "Coche.estado"
      ],
      "metadata": {
        "colab": {
          "base_uri": "https://localhost:8080/",
          "height": 104
        },
        "id": "_n1he6KmgQ17",
        "outputId": "56cb6af8-293f-4a6e-a949-c53f9c104b79"
      },
      "execution_count": null,
      "outputs": [
        {
          "output_type": "execute_result",
          "data": {
            "text/plain": [
              "<function __main__.Coche.estado(self)>"
            ],
            "text/html": [
              "<div style=\"max-width:800px; border: 1px solid var(--colab-border-color);\"><style>\n",
              "      pre.function-repr-contents {\n",
              "        overflow-x: auto;\n",
              "        padding: 8px 12px;\n",
              "        max-height: 500px;\n",
              "      }\n",
              "\n",
              "      pre.function-repr-contents.function-repr-contents-collapsed {\n",
              "        cursor: pointer;\n",
              "        max-height: 100px;\n",
              "      }\n",
              "    </style>\n",
              "    <pre style=\"white-space: initial; background:\n",
              "         var(--colab-secondary-surface-color); padding: 8px 12px;\n",
              "         border-bottom: 1px solid var(--colab-border-color);\"><b>Coche.estado</b><br/>def estado()</pre><pre class=\"function-repr-contents function-repr-contents-collapsed\" style=\"\"><a class=\"filepath\" style=\"display:none\" href=\"#\">/content/&lt;ipython-input-17-f871ceb7cdc1&gt;</a>&lt;no docstring&gt;</pre></div>"
            ]
          },
          "metadata": {},
          "execution_count": 17
        }
      ]
    },
    {
      "cell_type": "code",
      "source": [
        "# 3. Clase Rectangulo\n",
        "class Rectangulo:\n",
        "    def __init__(self, ancho, alto):\n",
        "# Inicializa el rectángulo con ancho y alto\n",
        "        self.ancho = ancho\n",
        "        self.alto = alto\n",
        "\n",
        "    def area(self):\n",
        "# Calcula y devuelve el área del rectángulo\n",
        "        return self.ancho * self.alto\n",
        "\n",
        "    def perimetro(self):\n",
        "# Calcula y devuelve el perímetro del rectángulo\n",
        "        return 2 * (self.ancho + self.alto)\n",
        "\n",
        "    def es_cuadrado(self):\n",
        "# Verifica si el rectángulo es un cuadrado (si el ancho y el alto son iguales)\n",
        "        return self.ancho == self.alto\n",
        "Rectangulo.area"
      ],
      "metadata": {
        "colab": {
          "base_uri": "https://localhost:8080/",
          "height": 104
        },
        "id": "b-jPo-rFgcb4",
        "outputId": "25c02b5b-9f49-42af-c8ca-9f451b4d1669"
      },
      "execution_count": null,
      "outputs": [
        {
          "output_type": "execute_result",
          "data": {
            "text/plain": [
              "<function __main__.Rectangulo.area(self)>"
            ],
            "text/html": [
              "<div style=\"max-width:800px; border: 1px solid var(--colab-border-color);\"><style>\n",
              "      pre.function-repr-contents {\n",
              "        overflow-x: auto;\n",
              "        padding: 8px 12px;\n",
              "        max-height: 500px;\n",
              "      }\n",
              "\n",
              "      pre.function-repr-contents.function-repr-contents-collapsed {\n",
              "        cursor: pointer;\n",
              "        max-height: 100px;\n",
              "      }\n",
              "    </style>\n",
              "    <pre style=\"white-space: initial; background:\n",
              "         var(--colab-secondary-surface-color); padding: 8px 12px;\n",
              "         border-bottom: 1px solid var(--colab-border-color);\"><b>Rectangulo.area</b><br/>def area()</pre><pre class=\"function-repr-contents function-repr-contents-collapsed\" style=\"\"><a class=\"filepath\" style=\"display:none\" href=\"#\">/content/&lt;ipython-input-18-34c254d78462&gt;</a>&lt;no docstring&gt;</pre></div>"
            ]
          },
          "metadata": {},
          "execution_count": 18
        }
      ]
    },
    {
      "cell_type": "code",
      "source": [
        "# 4. Clase Libro\n",
        "class Libro:\n",
        "    def __init__(self, titulo, autor, paginas):\n",
        "# Inicializa el libro con título, autor y número de páginas\n",
        "        self.titulo = titulo\n",
        "        self.autor = autor\n",
        "        self.paginas = paginas\n",
        "\n",
        "    def info(self):\n",
        "# Devuelve la información del libro en formato de texto\n",
        "        return f\"'{self.titulo}' de {self.autor}, {self.paginas} páginas.\"\n",
        "\n",
        "    def es_libro_largo(self):\n",
        "# Determina si el libro tiene más de 300 páginas\n",
        "        return self.paginas > 300\n",
        "Libro.info"
      ],
      "metadata": {
        "colab": {
          "base_uri": "https://localhost:8080/",
          "height": 104
        },
        "id": "mbonAEkygepB",
        "outputId": "19593a49-f105-4d26-a965-90b51a760603"
      },
      "execution_count": null,
      "outputs": [
        {
          "output_type": "execute_result",
          "data": {
            "text/plain": [
              "<function __main__.Libro.info(self)>"
            ],
            "text/html": [
              "<div style=\"max-width:800px; border: 1px solid var(--colab-border-color);\"><style>\n",
              "      pre.function-repr-contents {\n",
              "        overflow-x: auto;\n",
              "        padding: 8px 12px;\n",
              "        max-height: 500px;\n",
              "      }\n",
              "\n",
              "      pre.function-repr-contents.function-repr-contents-collapsed {\n",
              "        cursor: pointer;\n",
              "        max-height: 100px;\n",
              "      }\n",
              "    </style>\n",
              "    <pre style=\"white-space: initial; background:\n",
              "         var(--colab-secondary-surface-color); padding: 8px 12px;\n",
              "         border-bottom: 1px solid var(--colab-border-color);\"><b>Libro.info</b><br/>def info()</pre><pre class=\"function-repr-contents function-repr-contents-collapsed\" style=\"\"><a class=\"filepath\" style=\"display:none\" href=\"#\">/content/&lt;ipython-input-19-84ca17fea470&gt;</a>&lt;no docstring&gt;</pre></div>"
            ]
          },
          "metadata": {},
          "execution_count": 19
        }
      ]
    },
    {
      "cell_type": "code",
      "source": [
        "# 5. Clase CuentaBancaria\n",
        "class CuentaBancaria:\n",
        "    def __init__(self, titular, saldo, limite_retiro):\n",
        "# Inicializa la cuenta bancaria con titular, saldo y límite de retiro\n",
        "        self.titular = titular\n",
        "        self.saldo = saldo\n",
        "        self.limite_retiro = limite_retiro\n",
        "\n",
        "    def depositar(self, monto):\n",
        "# Añade dinero al saldo\n",
        "        self.saldo += monto\n",
        "\n",
        "    def retirar(self, monto):\n",
        "# Permite retirar dinero si no supera el saldo ni el límite de retiro\n",
        "        if monto <= self.saldo and monto <= self.limite_retiro:\n",
        "            self.saldo -= monto\n",
        "        else:\n",
        "            return \"Fondos insuficientes o límite de retiro excedido.\"\n",
        "\n",
        "    def mostrar_saldo(self):\n",
        "# Muestra el saldo actual de la cuenta\n",
        "        return f\"Saldo actual: {self.saldo}\"\n",
        "\n",
        "    def cambiar_limite(self, nuevo_limite):\n",
        "# Cambia el límite de retiro de la cuenta\n",
        "        self.limite_retiro = nuevo_limite\n",
        "\n",
        "\n",
        "Cliente = CuentaBancaria(\"camila\",0)\n",
        "\n",
        "Cliente.depositar\n",
        "Cliente.mostrar_saldo\n",
        "Cliente.retirar"
      ],
      "metadata": {
        "colab": {
          "base_uri": "https://localhost:8080/",
          "height": 211
        },
        "id": "HAYN5A9Jggvg",
        "outputId": "bba8fade-dadb-4537-a5b5-b8da20696b5a"
      },
      "execution_count": null,
      "outputs": [
        {
          "output_type": "error",
          "ename": "TypeError",
          "evalue": "CuentaBancaria.__init__() missing 1 required positional argument: 'limite_retiro'",
          "traceback": [
            "\u001b[0;31m---------------------------------------------------------------------------\u001b[0m",
            "\u001b[0;31mTypeError\u001b[0m                                 Traceback (most recent call last)",
            "\u001b[0;32m<ipython-input-27-6e36494e3af0>\u001b[0m in \u001b[0;36m<cell line: 0>\u001b[0;34m()\u001b[0m\n\u001b[1;32m     27\u001b[0m \u001b[0;34m\u001b[0m\u001b[0m\n\u001b[1;32m     28\u001b[0m \u001b[0;34m\u001b[0m\u001b[0m\n\u001b[0;32m---> 29\u001b[0;31m \u001b[0mCliente\u001b[0m \u001b[0;34m=\u001b[0m \u001b[0mCuentaBancaria\u001b[0m\u001b[0;34m(\u001b[0m\u001b[0;34m\"camila\"\u001b[0m\u001b[0;34m,\u001b[0m\u001b[0;36m0\u001b[0m\u001b[0;34m)\u001b[0m\u001b[0;34m\u001b[0m\u001b[0;34m\u001b[0m\u001b[0m\n\u001b[0m\u001b[1;32m     30\u001b[0m \u001b[0;34m\u001b[0m\u001b[0m\n\u001b[1;32m     31\u001b[0m \u001b[0mCliente\u001b[0m\u001b[0;34m.\u001b[0m\u001b[0mdepositar\u001b[0m\u001b[0;34m\u001b[0m\u001b[0;34m\u001b[0m\u001b[0m\n",
            "\u001b[0;31mTypeError\u001b[0m: CuentaBancaria.__init__() missing 1 required positional argument: 'limite_retiro'"
          ]
        }
      ]
    },
    {
      "cell_type": "code",
      "source": [
        "# 6. Clase Estudiante\n",
        "class Estudiante:\n",
        "    def __init__(self, nombre, edad):\n",
        "# Inicializa el estudiante con nombre, edad y una lista vacía de notas\n",
        "        self.nombre = nombre\n",
        "        self.edad = edad\n",
        "        self.notas = []\n",
        "\n",
        "    def agregar_nota(self, nota):\n",
        "# Añade una nota a la lista de notas del estudiante\n",
        "        self.notas.append(nota)\n",
        "\n",
        "    def promedio(self):# Calcula y devuelve el promedio de las notas (si hay notas registradas)\n",
        "        return sum(self.notas) / len(self.notas) if self.notas else 0\n",
        "\n",
        "    def info(self):\n",
        "# Devuelve la información del estudiante, incluyendo su promedio de notas\n",
        "        return f\"{self.nombre}, {self.edad} años, promedio: {self.promedio():.2f}\"\n",
        "\n",
        "Estudiante.promedio"
      ],
      "metadata": {
        "colab": {
          "base_uri": "https://localhost:8080/",
          "height": 104
        },
        "id": "EI1MawRZgj86",
        "outputId": "03fd3957-59bc-4f64-ad16-a27ce14c38e9"
      },
      "execution_count": null,
      "outputs": [
        {
          "output_type": "execute_result",
          "data": {
            "text/plain": [
              "<function __main__.Estudiante.promedio(self)>"
            ],
            "text/html": [
              "<div style=\"max-width:800px; border: 1px solid var(--colab-border-color);\"><style>\n",
              "      pre.function-repr-contents {\n",
              "        overflow-x: auto;\n",
              "        padding: 8px 12px;\n",
              "        max-height: 500px;\n",
              "      }\n",
              "\n",
              "      pre.function-repr-contents.function-repr-contents-collapsed {\n",
              "        cursor: pointer;\n",
              "        max-height: 100px;\n",
              "      }\n",
              "    </style>\n",
              "    <pre style=\"white-space: initial; background:\n",
              "         var(--colab-secondary-surface-color); padding: 8px 12px;\n",
              "         border-bottom: 1px solid var(--colab-border-color);\"><b>Estudiante.promedio</b><br/>def promedio()</pre><pre class=\"function-repr-contents function-repr-contents-collapsed\" style=\"\"><a class=\"filepath\" style=\"display:none\" href=\"#\">/content/&lt;ipython-input-25-26f971afc64f&gt;</a>&lt;no docstring&gt;</pre></div>"
            ]
          },
          "metadata": {},
          "execution_count": 25
        }
      ]
    },
    {
      "cell_type": "code",
      "source": [
        "# Importamos la librería math para usar el valor de pi en la clase Círculo\n",
        "\n",
        "import math\n",
        "\n",
        "# 7. Clase Círculo\n",
        "\n",
        "class Circulo:\n",
        "    def __init__(self, radio):\n",
        "# Inicializa el círculo con un radio\n",
        "        self.radio = radio\n",
        "\n",
        "    def area(self):\n",
        "# Calcula y devuelve el área del círculo\n",
        "        return math.pi * self.radio ** 2\n",
        "\n",
        "    def perimetro(self):\n",
        "# Calcula y devuelve el perímetro del círculo\n",
        "        return 2 * math.pi * self.radio\n",
        "\n",
        "Circulo.area\n",
        "Circulo.perimetro"
      ],
      "metadata": {
        "colab": {
          "base_uri": "https://localhost:8080/",
          "height": 104
        },
        "id": "2byOb8M6glq0",
        "outputId": "65f90397-2522-4b5b-e22e-08504ccfbbd1"
      },
      "execution_count": null,
      "outputs": [
        {
          "output_type": "execute_result",
          "data": {
            "text/plain": [
              "<function __main__.Circulo.perimetro(self)>"
            ],
            "text/html": [
              "<div style=\"max-width:800px; border: 1px solid var(--colab-border-color);\"><style>\n",
              "      pre.function-repr-contents {\n",
              "        overflow-x: auto;\n",
              "        padding: 8px 12px;\n",
              "        max-height: 500px;\n",
              "      }\n",
              "\n",
              "      pre.function-repr-contents.function-repr-contents-collapsed {\n",
              "        cursor: pointer;\n",
              "        max-height: 100px;\n",
              "      }\n",
              "    </style>\n",
              "    <pre style=\"white-space: initial; background:\n",
              "         var(--colab-secondary-surface-color); padding: 8px 12px;\n",
              "         border-bottom: 1px solid var(--colab-border-color);\"><b>Circulo.perimetro</b><br/>def perimetro()</pre><pre class=\"function-repr-contents function-repr-contents-collapsed\" style=\"\"><a class=\"filepath\" style=\"display:none\" href=\"#\">/content/&lt;ipython-input-24-1453e3eb2ff7&gt;</a>&lt;no docstring&gt;</pre></div>"
            ]
          },
          "metadata": {},
          "execution_count": 24
        }
      ]
    },
    {
      "cell_type": "code",
      "source": [
        "# 8. Clase Tienda\n",
        "\n",
        "class Tienda:\n",
        "    def __init__(self, nombre):\n",
        "# Inicializa la tienda con un nombre y una lista vacía de productos\n",
        "        self.nombre = nombre\n",
        "        self.productos = []\n",
        "\n",
        "    def agregar_producto(self, producto):\n",
        "# Añade un producto a la lista de productos de la tienda\n",
        "        self.productos.append(producto)\n",
        "\n",
        "    def mostrar_productos(self):\n",
        "# Devuelve la lista de productos disponibles en la tienda\n",
        "        return self.productos if self.productos else \"No hay productos disponibles.\"\n",
        "\n",
        "    def buscar_producto(self, nombre_producto):\n",
        "# Busca un producto por su nombre en la lista de productos\n",
        "        return nombre_producto in self.productos\n",
        "\n",
        "Tienda.agregar_producto\n",
        "Tienda.mostrar_productos\n",
        "Tienda.buscar_producto"
      ],
      "metadata": {
        "colab": {
          "base_uri": "https://localhost:8080/",
          "height": 104
        },
        "id": "Lx3eBB1KgnJg",
        "outputId": "7c1354f0-6e5b-4a4a-e9cf-c729d4a41a49"
      },
      "execution_count": null,
      "outputs": [
        {
          "output_type": "execute_result",
          "data": {
            "text/plain": [
              "<function __main__.Tienda.buscar_producto(self, nombre_producto)>"
            ],
            "text/html": [
              "<div style=\"max-width:800px; border: 1px solid var(--colab-border-color);\"><style>\n",
              "      pre.function-repr-contents {\n",
              "        overflow-x: auto;\n",
              "        padding: 8px 12px;\n",
              "        max-height: 500px;\n",
              "      }\n",
              "\n",
              "      pre.function-repr-contents.function-repr-contents-collapsed {\n",
              "        cursor: pointer;\n",
              "        max-height: 100px;\n",
              "      }\n",
              "    </style>\n",
              "    <pre style=\"white-space: initial; background:\n",
              "         var(--colab-secondary-surface-color); padding: 8px 12px;\n",
              "         border-bottom: 1px solid var(--colab-border-color);\"><b>Tienda.buscar_producto</b><br/>def buscar_producto(nombre_producto)</pre><pre class=\"function-repr-contents function-repr-contents-collapsed\" style=\"\"><a class=\"filepath\" style=\"display:none\" href=\"#\">/content/&lt;ipython-input-23-269e8c15fa46&gt;</a>&lt;no docstring&gt;</pre></div>"
            ]
          },
          "metadata": {},
          "execution_count": 23
        }
      ]
    }
  ]
}