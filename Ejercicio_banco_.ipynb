{
  "nbformat": 4,
  "nbformat_minor": 0,
  "metadata": {
    "colab": {
      "provenance": [],
      "authorship_tag": "ABX9TyO8yeDPhznlnfkmncHe9J1I",
      "include_colab_link": true
    },
    "kernelspec": {
      "name": "python3",
      "display_name": "Python 3"
    },
    "language_info": {
      "name": "python"
    }
  },
  "cells": [
    {
      "cell_type": "markdown",
      "metadata": {
        "id": "view-in-github",
        "colab_type": "text"
      },
      "source": [
        "<a href=\"https://colab.research.google.com/github/camila99urrego/ALGORITMOS-II/blob/main/Ejercicio_banco_.ipynb\" target=\"_parent\"><img src=\"https://colab.research.google.com/assets/colab-badge.svg\" alt=\"Open In Colab\"/></a>"
      ]
    },
    {
      "cell_type": "code",
      "execution_count": null,
      "metadata": {
        "id": "b3kAQBFpPvqn"
      },
      "outputs": [],
      "source": [
        "class CuentaBancaria:\n",
        "    def __init__(self, titular, saldo=0):\n",
        "        self.titular = titular\n",
        "        self.saldo = saldo\n",
        "\n",
        "    def depositar(self, cantidad):\n",
        "        if cantidad > 0:\n",
        "            self.saldo += cantidad\n",
        "            print(f\"Se han depositado {cantidad} unidades. Nuevo saldo: {self.saldo}\")\n",
        "        else:\n",
        "            print(\"La cantidad a depositar debe ser mayor que 0.\")\n",
        "\n",
        "    def retirar(self, cantidad):\n",
        "        if cantidad > 0:\n",
        "            if cantidad <= self.saldo:\n",
        "                self.saldo -= cantidad\n",
        "                print(f\"Se han retirado {cantidad} unidades. Nuevo saldo: {self.saldo}\")\n",
        "            else:\n",
        "                print(\"No tienes suficiente saldo para retirar esa cantidad.\")\n",
        "        else:\n",
        "            print(\"La cantidad a retirar debe ser mayor que 0.\")\n",
        "\n",
        "    def mostrar_saldo(self):\n",
        "        print(f\"El saldo actual de la cuenta de {self.titular} es: {self.saldo}\")\n"
      ]
    }
  ]
}