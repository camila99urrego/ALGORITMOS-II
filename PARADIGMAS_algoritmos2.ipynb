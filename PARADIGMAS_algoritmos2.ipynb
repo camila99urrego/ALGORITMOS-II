{
  "nbformat": 4,
  "nbformat_minor": 0,
  "metadata": {
    "colab": {
      "provenance": [],
      "include_colab_link": true
    },
    "kernelspec": {
      "name": "python3",
      "display_name": "Python 3"
    },
    "language_info": {
      "name": "python"
    }
  },
  "cells": [
    {
      "cell_type": "markdown",
      "metadata": {
        "id": "view-in-github",
        "colab_type": "text"
      },
      "source": [
        "<a href=\"https://colab.research.google.com/github/camila99urrego/ALGORITMOS-II/blob/main/PARADIGMAS_algoritmos2.ipynb\" target=\"_parent\"><img src=\"https://colab.research.google.com/assets/colab-badge.svg\" alt=\"Open In Colab\"/></a>"
      ]
    },
    {
      "cell_type": "markdown",
      "source": [
        "# ***PARADIGMA*** ***FUNCIONAL***"
      ],
      "metadata": {
        "id": "0SeVgZboo3eO"
      }
    },
    {
      "cell_type": "code",
      "execution_count": null,
      "metadata": {
        "colab": {
          "base_uri": "https://localhost:8080/"
        },
        "id": "Fgs5uGqImt31",
        "outputId": "916be0cc-8040-4b91-ff4d-5a33d0bf8be3"
      },
      "outputs": [
        {
          "output_type": "stream",
          "name": "stdout",
          "text": [
            "[4, 16, 36]\n"
          ]
        }
      ],
      "source": [
        "numeros = [1, 2, 3, 4, 5, 6]\n",
        "\n",
        "resultado = list(map(lambda x: x**2, filter(lambda x: x % 2 == 0, numeros)))\n",
        "print(resultado)\n"
      ]
    },
    {
      "cell_type": "markdown",
      "source": [
        "lista de 6 elementos tipo entero, list es un itereable para que el resultado sea devuelto en lista,\n",
        "LAMBDA estuctura inmutable, %  filtra la lista dejando solo los numeros pares, y MAP para elevar al cuadrado cada elemento que se filtro siendo numero par de la lista."
      ],
      "metadata": {
        "id": "e6hgcRgpnh1u"
      }
    },
    {
      "cell_type": "code",
      "source": [
        "# Multiplicar por 2 cada número en una lista\n",
        "numeros = [1, 2, 3]\n",
        "resultado = list(map(lambda x: x * 2, numeros))\n",
        "print(resultado) # [2, 4, 6]"
      ],
      "metadata": {
        "colab": {
          "base_uri": "https://localhost:8080/"
        },
        "id": "Q2bTokX9m5oJ",
        "outputId": "cce5ab00-f10f-4218-e7be-cd3c26b5bb8f"
      },
      "execution_count": 1,
      "outputs": [
        {
          "output_type": "stream",
          "name": "stdout",
          "text": [
            "[2, 4, 6]\n"
          ]
        }
      ]
    },
    {
      "cell_type": "code",
      "source": [
        "from functools import reduce\n",
        "numeros = [1, 2, 3, 4]\n",
        "suma = reduce(lambda x, y: x + y, numeros)\n",
        "print(suma)\n"
      ],
      "metadata": {
        "colab": {
          "base_uri": "https://localhost:8080/"
        },
        "id": "1P4F2dxGo6wW",
        "outputId": "2b3be0fb-5533-424c-a9e7-99f7fc94135a"
      },
      "execution_count": 3,
      "outputs": [
        {
          "output_type": "stream",
          "name": "stdout",
          "text": [
            "10\n"
          ]
        }
      ]
    },
    {
      "cell_type": "markdown",
      "source": [
        "Modulo: funtools, importamos **reduce** porque no viene incorporada\n",
        " se hace uso de una lista simple de enteros y lo que hace reduce es tomar los dos primeros elementos de la lista, aplicar la función, luego usa ese resultado junto al siguiente elemento, y así sucesivamente hasta que queda un solo valor.\n",
        "\n",
        "Evaluación de la lista, paso a paso:\n",
        "\n",
        "Primera operación: 1 + 2 = 3\n",
        "\n",
        "Segunda operación: 3 + 3 = 6\n",
        "\n",
        "Tercera operación: 6 + 4 = 10"
      ],
      "metadata": {
        "id": "psLAzvJ30X4b"
      }
    },
    {
      "cell_type": "markdown",
      "source": [
        "# ***PARADIGMA PROCEDURAL***"
      ],
      "metadata": {
        "id": "RUgbG1IAxDrn"
      }
    },
    {
      "cell_type": "code",
      "source": [
        "def procesar_lista(lista):\n",
        "    resultado = []\n",
        "    for num in lista:\n",
        "        if num % 2 == 0:\n",
        "            resultado.append(num**2)\n",
        "    return resultado\n",
        "\n",
        "numeros = [1,2 , 3, 4, 5, 6]\n",
        "print(procesar_lista(numeros))"
      ],
      "metadata": {
        "colab": {
          "base_uri": "https://localhost:8080/"
        },
        "id": "fFCD8YgQxRFr",
        "outputId": "fd464bd7-73c2-4053-d944-f9a9bee0d775"
      },
      "execution_count": null,
      "outputs": [
        {
          "output_type": "stream",
          "name": "stdout",
          "text": [
            "[4, 16, 36]\n"
          ]
        }
      ]
    },
    {
      "cell_type": "markdown",
      "source": [
        "DEF; crea una función llamada procesar_lista que recibe una lista como parámetro, dentro de la función, se inicializa una lista vacía llamada resultado, donde se van a guardar los valores procesados. FOR; recorre cada elemento **num** de la lista y si el número es par **(num % 2 == 0)**, se eleva al cuadrado (num**2)  y se agrega a la lista resultado con el metodo append\n"
      ],
      "metadata": {
        "id": "iMIZVKyKzPRE"
      }
    },
    {
      "cell_type": "code",
      "source": [
        "def saludo(nombre):\n",
        "    print(\"Hola\", nombre)\n",
        "\n",
        "saludo(\"Laura\") #Hola Laura"
      ],
      "metadata": {
        "colab": {
          "base_uri": "https://localhost:8080/"
        },
        "id": "3dArFyooxphU",
        "outputId": "4f0e6e63-4edc-4467-e990-f2b35e5858b0"
      },
      "execution_count": 5,
      "outputs": [
        {
          "output_type": "stream",
          "name": "stdout",
          "text": [
            "Hola Laura\n"
          ]
        }
      ]
    }
  ]
}