{
  "nbformat": 4,
  "nbformat_minor": 0,
  "metadata": {
    "colab": {
      "provenance": [],
      "authorship_tag": "ABX9TyMmp07SlLJfqWchhFS4OWnr",
      "include_colab_link": true
    },
    "kernelspec": {
      "name": "python3",
      "display_name": "Python 3"
    },
    "language_info": {
      "name": "python"
    }
  },
  "cells": [
    {
      "cell_type": "markdown",
      "metadata": {
        "id": "view-in-github",
        "colab_type": "text"
      },
      "source": [
        "<a href=\"https://colab.research.google.com/github/camila99urrego/ALGORITMOS-II/blob/main/Solucion_con_Vectores_Taller_1_algoritmos2.ipynb\" target=\"_parent\"><img src=\"https://colab.research.google.com/assets/colab-badge.svg\" alt=\"Open In Colab\"/></a>"
      ]
    },
    {
      "cell_type": "code",
      "execution_count": null,
      "metadata": {
        "colab": {
          "base_uri": "https://localhost:8080/"
        },
        "id": "F_c4tOIuQpqt",
        "outputId": "73cb73f6-e17b-4217-f9f8-48fd90300ccc"
      },
      "outputs": [
        {
          "output_type": "stream",
          "name": "stdout",
          "text": [
            "Ventas: [350 550 650]\n",
            "Diferencia de ventas: [ 50 -50 -50]\n",
            "Producto 1 con aumento: [240. 300. 360.]\n"
          ]
        }
      ],
      "source": [
        " # Importamos la librería para vectores\n",
        "import numpy as np\n",
        "\n",
        "# Ejercicio 1 Ventas de productos\n",
        "\n",
        "producto1 = np.array([200, 250, 300])\n",
        "producto2 = np.array([150, 300, 350])\n",
        "\n",
        "sumaventas = producto1 + producto2\n",
        "print(\"Ventas:\", sumaventas)\n",
        "\n",
        "restaventas = producto1 - producto2\n",
        "print(\"Diferencia de ventas:\", restaventas)\n",
        "\n",
        "producto1_aumentado = producto1 * 1.2\n",
        "print(\"Producto 1 con aumento:\", producto1_aumentado)\n"
      ]
    },
    {
      "cell_type": "code",
      "source": [
        "# Ejercicio 2 Rendimiento de empleados\n",
        "empleado1 = np.array([5, 8, 6])\n",
        "empleado2 = np.array([7, 6, 9])\n",
        "\n",
        "## np.dot funcion que multiplica cada componente de los vectores y se suman los resultados.\n",
        "producto_punto = np.dot(empleado1, empleado2)\n",
        "print(\"Producto punto empleados:\", producto_punto)\n",
        "\n",
        "# np.linalg.norm función que aplica formula de magnitud, raiz cuadrada x2 + y2 + z2\n",
        "## longitud_emp1 = (empleado1[0]**2 + empleado1[1]**2 + empleado1[2]**2) ** 0.5\n",
        "longitud_emp1 = np.linalg.norm(empleado1)\n",
        "print(\"Longitud del vector Empleado 1:\", longitud_emp1)\n",
        "\n",
        "## Funcion de normalizado es dividir cada componente por la longitud del vector\n",
        "## empleado1_normalizado = empleado1 / np.linalg.norm(empleado1) print(\"Empleado 1 normalizado:\", empleado1_normalizado)\n",
        "\n",
        "empleado2_normalizado = empleado2 / np.linalg.norm(empleado2)\n",
        "print(\"Empleado 2 normalizado:\", empleado2_normalizado)"
      ],
      "metadata": {
        "colab": {
          "base_uri": "https://localhost:8080/"
        },
        "id": "0rNpLxlNXXLb",
        "outputId": "fc46b4f3-6072-4509-c506-adae837869b5"
      },
      "execution_count": null,
      "outputs": [
        {
          "output_type": "stream",
          "name": "stdout",
          "text": [
            "Producto punto empleados: 137\n",
            "Longitud del vector Empleado 1: 11.180339887498949\n",
            "Empleado 2 normalizado: [0.54330537 0.46569032 0.69853547]\n"
          ]
        }
      ]
    },
    {
      "cell_type": "code",
      "source": [
        "# Ejercicio 3: Rendimiento de equipos deportivos\n",
        "equipoA = np.array([3, 5, 1])\n",
        "equipoB = np.array([4, 4, 2])\n",
        "\n",
        "suma_rendimiento = equipoA + equipoB\n",
        "print(\"Suma de rendimiento:\", suma_rendimiento)\n",
        "\n",
        "diferencia_rendimiento = equipoA - equipoB\n",
        "print(\"Diferencia de rendimiento:\", diferencia_rendimiento)\n",
        "\n",
        "equipoA_mejorado = equipoA * 1.5\n",
        "print(\"Equipo A mejorado:\", equipoA_mejorado)"
      ],
      "metadata": {
        "colab": {
          "base_uri": "https://localhost:8080/"
        },
        "id": "kuB3YCZdYMyi",
        "outputId": "1dd0451a-e625-41f0-d3d8-307f64d09186"
      },
      "execution_count": null,
      "outputs": [
        {
          "output_type": "stream",
          "name": "stdout",
          "text": [
            "Suma de rendimiento: [7 9 3]\n",
            "Diferencia de rendimiento: [-1  1 -1]\n",
            "Equipo A mejorado: [4.5 7.5 1.5]\n"
          ]
        }
      ]
    },
    {
      "cell_type": "code",
      "source": [
        "# Ejercicio 4: Evaluación de campañas publicitarias\n",
        "campañaX = np.array([150, 300, 500])\n",
        "campañaY = np.array([200, 250, 450])\n",
        "\n",
        "longitud_X = np.linalg.norm(campañaX)\n",
        "longitud_Y = np.linalg.norm(campañaY)\n",
        "print(\"Longitud campaña X:\", longitud_X)\n",
        "print(\"Longitud campaña Y:\", longitud_Y)\n",
        "\n",
        "campañaX_normalizada = campañaX / np.linalg.norm(campañaX)\n",
        "campañaY_normalizada = campañaY / np.linalg.norm(campañaY)\n",
        "print(\"Campaña X normalizada:\", campañaX_normalizada)\n",
        "print(\"Campaña Y normalizada:\", campañaY_normalizada)\n",
        "\n",
        "producto_punto_campañas = np.dot(campañaX, campañaY)\n",
        "print(\"Producto punto entre campañas:\", producto_punto_campañas)"
      ],
      "metadata": {
        "colab": {
          "base_uri": "https://localhost:8080/"
        },
        "id": "jg6J1UUlYvBn",
        "outputId": "ff8fca34-b8f6-427c-e995-8816d8aa2ed9"
      },
      "execution_count": null,
      "outputs": [
        {
          "output_type": "stream",
          "name": "stdout",
          "text": [
            "Longitud campaña X: 602.0797289396148\n",
            "Longitud campaña Y: 552.268050859363\n",
            "Campaña X normalizada: [0.24913644 0.49827288 0.8304548 ]\n",
            "Campaña Y normalizada: [0.36214298 0.45267873 0.81482171]\n",
            "Producto punto entre campañas: 330000\n"
          ]
        }
      ]
    }
  ]
}