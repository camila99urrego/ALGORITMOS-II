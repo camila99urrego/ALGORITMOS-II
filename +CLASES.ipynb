{
  "nbformat": 4,
  "nbformat_minor": 0,
  "metadata": {
    "colab": {
      "provenance": [],
      "authorship_tag": "ABX9TyPUd63HC9qfRviZKtjzH12y",
      "include_colab_link": true
    },
    "kernelspec": {
      "name": "python3",
      "display_name": "Python 3"
    },
    "language_info": {
      "name": "python"
    }
  },
  "cells": [
    {
      "cell_type": "markdown",
      "metadata": {
        "id": "view-in-github",
        "colab_type": "text"
      },
      "source": [
        "<a href=\"https://colab.research.google.com/github/camila99urrego/ALGORITMOS-II/blob/main/%2BCLASES.ipynb\" target=\"_parent\"><img src=\"https://colab.research.google.com/assets/colab-badge.svg\" alt=\"Open In Colab\"/></a>"
      ]
    },
    {
      "cell_type": "code",
      "source": [
        "# Se define la clase Coche de carreras\n",
        "\n",
        "class CocheDeCarreras:\n",
        "    def __init__(self, nombre, velocidad_maxima):\n",
        "        self.nombre = nombre  # Nombre del coche\n",
        "        self.velocidad_maxima = velocidad_maxima  # Velocidad máxima permitida\n",
        "        self.velocidad_actual = 0  # Inicialmente está detenido\n",
        "        self.combustible = 100  # Combustible inicia en 100%\n",
        "\n",
        "    def acelerar(self, incremento):\n",
        "        if self.combustible > 0:  # Verificamos si hay combustible\n",
        "            self.velocidad_actual += incremento  # Aumentamos la velocidad\n",
        "            if self.velocidad_actual > self.velocidad_maxima:\n",
        "                self.velocidad_actual = self.velocidad_maxima  # No superar la velocidad máxima\n",
        "            self.combustible -= incremento // 10  # Se reduce combustible\n",
        "            if self.velocidad_actual > self.velocidad_maxima * 0.9:\n",
        "                print(\"Velocidad max\")  # Advertencia\n",
        "        else:\n",
        "            print(\"Error: No hay combustible\")\n",
        "\n",
        "    def frenar(self, decremento):\n",
        "        self.velocidad_actual -= decremento  # Reducimos la velocidad\n",
        "        if self.velocidad_actual < 0:\n",
        "            self.velocidad_actual = 0  # No puede ser menor a 0\n",
        "\n",
        "    def repostar(self, cantidad):\n",
        "        self.combustible += cantidad  # Aumentamos el combustible\n",
        "        if self.combustible > 100:\n",
        "            self.combustible = 100  # No puede superar 100%\n",
        "\n",
        "    def estado(self):\n",
        "        print(f\"Coche: {self.nombre}, Velocidad: {self.velocidad_actual} km/h, Combustible: {self.combustible}%\")\n",
        "\n",
        "print(\"Pruebas Coche De Carreras\")\n",
        "coche = CocheDeCarreras(\"Ferrari\", 200)\n",
        "coche.acelerar(50)\n",
        "coche.estado()\n",
        "coche.frenar(30)\n",
        "coche.estado()\n",
        "coche.repostar(20)\n",
        "coche.estado()"
      ],
      "metadata": {
        "colab": {
          "base_uri": "https://localhost:8080/"
        },
        "id": "VY0FctuB8Tqo",
        "outputId": "210180ab-bc22-46f9-8588-743ab728afd9"
      },
      "execution_count": 18,
      "outputs": [
        {
          "output_type": "stream",
          "name": "stdout",
          "text": [
            "Pruebas Coche De Carreras\n",
            "Coche: Ferrari, Velocidad: 50 km/h, Combustible: 95%\n",
            "Coche: Ferrari, Velocidad: 20 km/h, Combustible: 95%\n",
            "Coche: Ferrari, Velocidad: 20 km/h, Combustible: 100%\n"
          ]
        }
      ]
    },
    {
      "cell_type": "code",
      "source": [
        "# Se define la clase Robot\n",
        "class Robot:\n",
        "    def __init__(self, nombre):\n",
        "        self.nombre = nombre  # Nombre del robot\n",
        "        self.bateria = 100  # La batería empieza en 100%\n",
        "        self.posicion = (0, 0)  # Posición inicial en (0,0)\n",
        "\n",
        "    def mover(self, direccion, distancia):\n",
        "        if self.bateria <= 0:\n",
        "            print(\"Error: Sin batería\")\n",
        "            return\n",
        "        if direccion not in [\"arriba\", \"abajo\", \"izquierda\", \"derecha\"]:\n",
        "            raise ValueError(\"Dirección erronea\")  # Verificamos que la dirección es correcta\n",
        "        x, y = self.posicion\n",
        "        if direccion == \"arriba\":\n",
        "            y += distancia\n",
        "        elif direccion == \"abajo\":\n",
        "            y -= distancia\n",
        "        elif direccion == \"izquierda\":\n",
        "            x -= distancia\n",
        "        elif direccion == \"derecha\":\n",
        "            x += distancia\n",
        "        if x < 0 or y < 0:\n",
        "            print(\"Error No puede moverse\")\n",
        "            return\n",
        "        self.posicion = (x, y)  # Actualizamos la posición\n",
        "        self.bateria -= distancia  # Reducimos la batería\n",
        "\n",
        "    def cargar_bateria(self, cantidad):\n",
        "        self.bateria += cantidad\n",
        "        if self.bateria > 100:\n",
        "            self.bateria = 100  # No puede superar el 100%\n",
        "\n",
        "    def disparar(self):\n",
        "        if self.bateria >= 5:\n",
        "            self.bateria -= 5  # Disparar consume 5% de batería\n",
        "        else:\n",
        "            print(\"Error: Bateria insufuciente\")\n",
        "\n",
        "    def estado(self):\n",
        "        print(f\"Robot: {self.nombre}, Posición: {self.posicion}, Batería: {self.bateria}%\")\n",
        "\n",
        "print(\"Pruebas Robot\")\n",
        "robot = Robot(\"R2-D2\")\n",
        "robot.mover(\"arriba\", 10)\n",
        "robot.estado()\n",
        "robot.disparar()\n",
        "robot.estado()\n",
        "robot.cargar_bateria(60)\n",
        "robot.estado()"
      ],
      "metadata": {
        "colab": {
          "base_uri": "https://localhost:8080/"
        },
        "id": "IeFKEmZZ9spi",
        "outputId": "d14bc295-e1e2-4e98-af2b-3ee9b3b29550"
      },
      "execution_count": 14,
      "outputs": [
        {
          "output_type": "stream",
          "name": "stdout",
          "text": [
            "Pruebas Robot\n",
            "Robot: R2-D2, Posición: (0, 10), Batería: 90%\n",
            "Robot: R2-D2, Posición: (0, 10), Batería: 85%\n",
            "Robot: R2-D2, Posición: (0, 10), Batería: 100%\n"
          ]
        }
      ]
    },
    {
      "cell_type": "code",
      "source": [
        "import random ## La librería random en Python se usa para generar valores aleatorios. En este código, se utiliza random.shuffle(self.mazo) dentro de la clase JuegoDeCartas para mezclar aleatoriamente el mazo de cartas antes de repartirlas. Esto imita la acción de barajar un mazo en un juego de cartas real.\n",
        "\n",
        "# Se define la clase Juego De Cartas\n",
        "class NoHaySuficientesCartasError(Exception):\n",
        "    pass\n",
        "\n",
        "class JuegoDeCartas:\n",
        "    def __init__(self):\n",
        "        self.mazo = []  # El mazo empieza vacío\n",
        "        self.jugadores = {}  # Diccionario para almacenar jugadores y sus cartas\n",
        "\n",
        "    def agregar_carta(self, valor, pinta):\n",
        "        self.mazo.append((valor, pinta))  # Añadimos la carta al mazo\n",
        "\n",
        "    def repartir(self, jugador, cantidad):\n",
        "        if len(self.mazo) < cantidad:\n",
        "            raise NoHaySuficientesCartasError(\"No hay suficientes cartas en el mazo\")\n",
        "        if jugador not in self.jugadores:\n",
        "            self.jugadores[jugador] = []  # Si es un nuevo jugador, inicializamos su mano\n",
        "        for _ in range(cantidad):\n",
        "            self.jugadores[jugador].append(self.mazo.pop())  # Damos cartas del mazo al jugador\n",
        "\n",
        "    def mostrar_mano(self, jugador):\n",
        "        if jugador in self.jugadores:\n",
        "            print(f\"Mano de {jugador}: {self.jugadores[jugador]}\")\n",
        "        else:\n",
        "            print(f\"El jugador {jugador} no tiene cartas.\")\n",
        "\n",
        "    def mezclar_mazo(self):\n",
        "        random.shuffle(self.mazo)  # Mezclamos el mazo aleatoriamente\n",
        "\n",
        "print(\"Pruebas Juego De Cartas\")\n",
        "juego = JuegoDeCartas()\n",
        "juego.agregar_carta(\"As\", \"Corazones\")\n",
        "juego.agregar_carta(\"Rey\", \"Picas\")\n",
        "juego.mezclar_mazo()\n",
        "juego.repartir(\"Jugador1\", 1)\n",
        "juego.mostrar_mano(\"Jugador1\")"
      ],
      "metadata": {
        "colab": {
          "base_uri": "https://localhost:8080/"
        },
        "id": "REwQRuSk-iLD",
        "outputId": "869e4061-f850-41d8-fd9c-6778620a8667"
      },
      "execution_count": 17,
      "outputs": [
        {
          "output_type": "stream",
          "name": "stdout",
          "text": [
            "Pruebas Juego De Cartas\n",
            "Mano de Jugador1: [('Rey', 'Picas')]\n"
          ]
        }
      ]
    }
  ]
}